{
 "cells": [
  {
   "cell_type": "code",
   "execution_count": 1,
   "metadata": {},
   "outputs": [],
   "source": [
    "import sys\n",
    "sys.path.append('/usr/local/lib/python3.7/site-packages')\n",
    "from Bio import SeqIO\n",
    "import RNA\n",
    "import numpy as np\n",
    "import pandas as pd\n",
    "import seaborn as sns\n",
    "import pybedtools\n",
    "import pybedtools.featurefuncs as featurefuncs\n",
    "import researchpy as rp\n",
    "import scipy.stats as stats\n",
    "import matplotlib.pyplot as plt"
   ]
  },
  {
   "cell_type": "code",
   "execution_count": 2,
   "metadata": {},
   "outputs": [],
   "source": [
    "# Importing data:\n",
    "clustered_df = pd.read_pickle(\"data/iap_clustered.pkl\")\n",
    "iap_bed = pybedtools.BedTool(\"data/clean_beds/mm10.IAP.mended.extent.bed\")"
   ]
  },
  {
   "cell_type": "code",
   "execution_count": 3,
   "metadata": {},
   "outputs": [],
   "source": [
    "# Retrieving sequence windows around each IAP:\n",
    "interval_center = iap_bed.each(\n",
    "        featurefuncs.center, width=10).saveas()\n",
    "center_slop = interval_center.slop(b=1000, genome=\"mm10\")\n",
    "fasta = \"data/GRCm38.p6.genome.fa\"\n",
    "center_slop = center_slop.sequence(fi=fasta)"
   ]
  },
  {
   "cell_type": "code",
   "execution_count": 4,
   "metadata": {},
   "outputs": [
    {
     "data": {
      "text/plain": [
       "<BedTool(/var/folders/6m/_grwz6z90_b14fdyzyd4jfdw0000gn/T/pybedtools.lfst1iu8.tmp)>"
      ]
     },
     "execution_count": 4,
     "metadata": {},
     "output_type": "execute_result"
    }
   ],
   "source": [
    "center_slop.save_seqs(\"data/iap_seq_windows.fa\")"
   ]
  },
  {
   "cell_type": "code",
   "execution_count": 5,
   "metadata": {},
   "outputs": [],
   "source": [
    "slop_df = center_slop.to_dataframe()"
   ]
  },
  {
   "cell_type": "code",
   "execution_count": 6,
   "metadata": {
    "scrolled": true
   },
   "outputs": [
    {
     "name": "stdout",
     "output_type": "stream",
     "text": [
      "100 sequences processed.\n",
      "200 sequences processed.\n",
      "300 sequences processed.\n",
      "400 sequences processed.\n",
      "500 sequences processed.\n",
      "600 sequences processed.\n",
      "700 sequences processed.\n",
      "800 sequences processed.\n",
      "900 sequences processed.\n",
      "1000 sequences processed.\n",
      "1100 sequences processed.\n",
      "1200 sequences processed.\n",
      "1300 sequences processed.\n",
      "1400 sequences processed.\n",
      "1500 sequences processed.\n",
      "1600 sequences processed.\n",
      "1700 sequences processed.\n",
      "1800 sequences processed.\n",
      "1900 sequences processed.\n",
      "2000 sequences processed.\n",
      "2100 sequences processed.\n",
      "2200 sequences processed.\n",
      "2300 sequences processed.\n",
      "2400 sequences processed.\n",
      "2500 sequences processed.\n",
      "2600 sequences processed.\n",
      "2700 sequences processed.\n",
      "2800 sequences processed.\n",
      "2900 sequences processed.\n",
      "3000 sequences processed.\n",
      "3100 sequences processed.\n",
      "3200 sequences processed.\n",
      "3300 sequences processed.\n",
      "3400 sequences processed.\n",
      "3500 sequences processed.\n",
      "3600 sequences processed.\n",
      "3700 sequences processed.\n",
      "3800 sequences processed.\n",
      "3900 sequences processed.\n",
      "4000 sequences processed.\n",
      "4100 sequences processed.\n",
      "4200 sequences processed.\n",
      "4300 sequences processed.\n",
      "4400 sequences processed.\n",
      "4500 sequences processed.\n",
      "4600 sequences processed.\n",
      "4700 sequences processed.\n",
      "4800 sequences processed.\n",
      "4900 sequences processed.\n",
      "5000 sequences processed.\n",
      "5100 sequences processed.\n",
      "5200 sequences processed.\n",
      "5300 sequences processed.\n",
      "5400 sequences processed.\n",
      "5500 sequences processed.\n",
      "5600 sequences processed.\n",
      "5700 sequences processed.\n",
      "5800 sequences processed.\n",
      "5900 sequences processed.\n",
      "6000 sequences processed.\n",
      "6100 sequences processed.\n",
      "6200 sequences processed.\n",
      "6300 sequences processed.\n",
      "6400 sequences processed.\n",
      "6500 sequences processed.\n",
      "6600 sequences processed.\n",
      "6700 sequences processed.\n",
      "6800 sequences processed.\n",
      "6900 sequences processed.\n",
      "7000 sequences processed.\n",
      "7100 sequences processed.\n",
      "7200 sequences processed.\n",
      "7300 sequences processed.\n",
      "7400 sequences processed.\n",
      "7500 sequences processed.\n",
      "7600 sequences processed.\n",
      "7700 sequences processed.\n",
      "7800 sequences processed.\n",
      "7900 sequences processed.\n",
      "8000 sequences processed.\n"
     ]
    }
   ],
   "source": [
    "with open('data/iap_seq_windows.fa') as fasta_file:  # Will close handle cleanly\n",
    "    id_array = []\n",
    "    mfe_array = []\n",
    "    i = 0\n",
    "    for seq_record in SeqIO.parse(fasta_file, 'fasta'):  # (generator)\n",
    "        id_array.append(seq_record.id)\n",
    "        fold_compound = RNA.fold_compound(str(seq_record.seq))\n",
    "        mfe_array.append(fold_compound.mfe_dimer()[1])\n",
    "        i += 1\n",
    "        if i % 100 == 0:\n",
    "            print(str(i) + \" sequences processed.\")"
   ]
  },
  {
   "cell_type": "code",
   "execution_count": 7,
   "metadata": {},
   "outputs": [
    {
     "data": {
      "text/plain": [
       "<matplotlib.axes._subplots.AxesSubplot at 0x12ce6ab10>"
      ]
     },
     "execution_count": 7,
     "metadata": {},
     "output_type": "execute_result"
    },
    {
     "data": {
      "image/png": "[encoded data removed]",
      "text/plain": [
       "<Figure size 432x288 with 1 Axes>"
      ]
     },
     "metadata": {
      "needs_background": "light"
     },
     "output_type": "display_data"
    }
   ],
   "source": [
    "sns.distplot(mfe_array)"
   ]
  },
  {
   "cell_type": "code",
   "execution_count": 8,
   "metadata": {},
   "outputs": [
    {
     "data": {
      "text/html": [
       "<div>\n",
       "<style scoped>\n",
       "    .dataframe tbody tr th:only-of-type {\n",
       "        vertical-align: middle;\n",
       "    }\n",
       "\n",
       "    .dataframe tbody tr th {\n",
       "        vertical-align: top;\n",
       "    }\n",
       "\n",
       "    .dataframe thead th {\n",
       "        text-align: right;\n",
       "    }\n",
       "</style>\n",
       "<table border=\"1\" class=\"dataframe\">\n",
       "  <thead>\n",
       "    <tr style=\"text-align: right;\">\n",
       "      <th></th>\n",
       "      <th>chrom</th>\n",
       "      <th>start</th>\n",
       "      <th>end</th>\n",
       "      <th>name</th>\n",
       "      <th>score</th>\n",
       "      <th>strand</th>\n",
       "    </tr>\n",
       "  </thead>\n",
       "  <tbody>\n",
       "    <tr>\n",
       "      <th>0</th>\n",
       "      <td>chr1</td>\n",
       "      <td>95056305</td>\n",
       "      <td>95058315</td>\n",
       "      <td>151177</td>\n",
       "      <td>33</td>\n",
       "      <td>-</td>\n",
       "    </tr>\n",
       "    <tr>\n",
       "      <th>1</th>\n",
       "      <td>chr1</td>\n",
       "      <td>20054348</td>\n",
       "      <td>20056358</td>\n",
       "      <td>25136</td>\n",
       "      <td>37</td>\n",
       "      <td>-</td>\n",
       "    </tr>\n",
       "    <tr>\n",
       "      <th>2</th>\n",
       "      <td>chr1</td>\n",
       "      <td>100566711</td>\n",
       "      <td>100568721</td>\n",
       "      <td>159399</td>\n",
       "      <td>47</td>\n",
       "      <td>+</td>\n",
       "    </tr>\n",
       "    <tr>\n",
       "      <th>3</th>\n",
       "      <td>chr1</td>\n",
       "      <td>100930383</td>\n",
       "      <td>100932393</td>\n",
       "      <td>160006</td>\n",
       "      <td>50</td>\n",
       "      <td>+</td>\n",
       "    </tr>\n",
       "    <tr>\n",
       "      <th>4</th>\n",
       "      <td>chr1</td>\n",
       "      <td>60585664</td>\n",
       "      <td>60587674</td>\n",
       "      <td>91370</td>\n",
       "      <td>51</td>\n",
       "      <td>-</td>\n",
       "    </tr>\n",
       "    <tr>\n",
       "      <th>...</th>\n",
       "      <td>...</td>\n",
       "      <td>...</td>\n",
       "      <td>...</td>\n",
       "      <td>...</td>\n",
       "      <td>...</td>\n",
       "      <td>...</td>\n",
       "    </tr>\n",
       "    <tr>\n",
       "      <th>8054</th>\n",
       "      <td>chr9</td>\n",
       "      <td>92737376</td>\n",
       "      <td>92739386</td>\n",
       "      <td>4180871</td>\n",
       "      <td>7434</td>\n",
       "      <td>-</td>\n",
       "    </tr>\n",
       "    <tr>\n",
       "      <th>8055</th>\n",
       "      <td>chr9</td>\n",
       "      <td>19765898</td>\n",
       "      <td>19767908</td>\n",
       "      <td>4041241</td>\n",
       "      <td>7589</td>\n",
       "      <td>-</td>\n",
       "    </tr>\n",
       "    <tr>\n",
       "      <th>8056</th>\n",
       "      <td>chr9</td>\n",
       "      <td>36160263</td>\n",
       "      <td>36162273</td>\n",
       "      <td>4069873</td>\n",
       "      <td>8196</td>\n",
       "      <td>+</td>\n",
       "    </tr>\n",
       "    <tr>\n",
       "      <th>8057</th>\n",
       "      <td>chr9</td>\n",
       "      <td>19900815</td>\n",
       "      <td>19902825</td>\n",
       "      <td>4041384</td>\n",
       "      <td>9508</td>\n",
       "      <td>+</td>\n",
       "    </tr>\n",
       "    <tr>\n",
       "      <th>8058</th>\n",
       "      <td>chr9</td>\n",
       "      <td>82773099</td>\n",
       "      <td>82775109</td>\n",
       "      <td>4164901</td>\n",
       "      <td>12363</td>\n",
       "      <td>+</td>\n",
       "    </tr>\n",
       "  </tbody>\n",
       "</table>\n",
       "<p>8059 rows × 6 columns</p>\n",
       "</div>"
      ],
      "text/plain": [
       "     chrom      start        end     name  score strand\n",
       "0     chr1   95056305   95058315   151177     33      -\n",
       "1     chr1   20054348   20056358    25136     37      -\n",
       "2     chr1  100566711  100568721   159399     47      +\n",
       "3     chr1  100930383  100932393   160006     50      +\n",
       "4     chr1   60585664   60587674    91370     51      -\n",
       "...    ...        ...        ...      ...    ...    ...\n",
       "8054  chr9   92737376   92739386  4180871   7434      -\n",
       "8055  chr9   19765898   19767908  4041241   7589      -\n",
       "8056  chr9   36160263   36162273  4069873   8196      +\n",
       "8057  chr9   19900815   19902825  4041384   9508      +\n",
       "8058  chr9   82773099   82775109  4164901  12363      +\n",
       "\n",
       "[8059 rows x 6 columns]"
      ]
     },
     "execution_count": 8,
     "metadata": {},
     "output_type": "execute_result"
    }
   ],
   "source": [
    "mfe_df = pd.DataFrame(columns=[\"seqID\", \"mfe\"])\n",
    "mfe_df[\"seqID\"] = id_array\n",
    "mfe_df[\"mfe\"] = mfe_array\n",
    "slop_df"
   ]
  },
  {
   "cell_type": "code",
   "execution_count": 9,
   "metadata": {},
   "outputs": [],
   "source": [
    "mfe_df.index = slop_df[\"name\"].astype(int).to_list()"
   ]
  },
  {
   "cell_type": "code",
   "execution_count": 10,
   "metadata": {},
   "outputs": [
    {
     "data": {
      "text/html": [
       "<div>\n",
       "<style scoped>\n",
       "    .dataframe tbody tr th:only-of-type {\n",
       "        vertical-align: middle;\n",
       "    }\n",
       "\n",
       "    .dataframe tbody tr th {\n",
       "        vertical-align: top;\n",
       "    }\n",
       "\n",
       "    .dataframe thead th {\n",
       "        text-align: right;\n",
       "    }\n",
       "</style>\n",
       "<table border=\"1\" class=\"dataframe\">\n",
       "  <thead>\n",
       "    <tr style=\"text-align: right;\">\n",
       "      <th></th>\n",
       "      <th>chrom</th>\n",
       "      <th>start</th>\n",
       "      <th>end</th>\n",
       "      <th>element_id</th>\n",
       "      <th>length</th>\n",
       "      <th>strand</th>\n",
       "      <th>val_result</th>\n",
       "      <th>cluster_assignments</th>\n",
       "    </tr>\n",
       "  </thead>\n",
       "  <tbody>\n",
       "    <tr>\n",
       "      <th>151177</th>\n",
       "      <td>chr1</td>\n",
       "      <td>95057294</td>\n",
       "      <td>95057326</td>\n",
       "      <td>151177</td>\n",
       "      <td>33</td>\n",
       "      <td>-</td>\n",
       "      <td>Untested</td>\n",
       "      <td>B</td>\n",
       "    </tr>\n",
       "    <tr>\n",
       "      <th>25136</th>\n",
       "      <td>chr1</td>\n",
       "      <td>20055335</td>\n",
       "      <td>20055371</td>\n",
       "      <td>25136</td>\n",
       "      <td>37</td>\n",
       "      <td>-</td>\n",
       "      <td>Untested</td>\n",
       "      <td>B</td>\n",
       "    </tr>\n",
       "    <tr>\n",
       "      <th>159399</th>\n",
       "      <td>chr1</td>\n",
       "      <td>100567693</td>\n",
       "      <td>100567739</td>\n",
       "      <td>159399</td>\n",
       "      <td>47</td>\n",
       "      <td>+</td>\n",
       "      <td>Untested</td>\n",
       "      <td>A</td>\n",
       "    </tr>\n",
       "    <tr>\n",
       "      <th>160006</th>\n",
       "      <td>chr1</td>\n",
       "      <td>100931364</td>\n",
       "      <td>100931413</td>\n",
       "      <td>160006</td>\n",
       "      <td>50</td>\n",
       "      <td>+</td>\n",
       "      <td>Untested</td>\n",
       "      <td>A</td>\n",
       "    </tr>\n",
       "    <tr>\n",
       "      <th>91370</th>\n",
       "      <td>chr1</td>\n",
       "      <td>60586644</td>\n",
       "      <td>60586694</td>\n",
       "      <td>91370</td>\n",
       "      <td>51</td>\n",
       "      <td>-</td>\n",
       "      <td>Untested</td>\n",
       "      <td>B</td>\n",
       "    </tr>\n",
       "    <tr>\n",
       "      <th>...</th>\n",
       "      <td>...</td>\n",
       "      <td>...</td>\n",
       "      <td>...</td>\n",
       "      <td>...</td>\n",
       "      <td>...</td>\n",
       "      <td>...</td>\n",
       "      <td>...</td>\n",
       "      <td>...</td>\n",
       "    </tr>\n",
       "    <tr>\n",
       "      <th>4180871</th>\n",
       "      <td>chr9</td>\n",
       "      <td>92734665</td>\n",
       "      <td>92742098</td>\n",
       "      <td>4180871</td>\n",
       "      <td>7434</td>\n",
       "      <td>-</td>\n",
       "      <td>Untested</td>\n",
       "      <td>C</td>\n",
       "    </tr>\n",
       "    <tr>\n",
       "      <th>4041241</th>\n",
       "      <td>chr9</td>\n",
       "      <td>19763109</td>\n",
       "      <td>19770697</td>\n",
       "      <td>4041241</td>\n",
       "      <td>7589</td>\n",
       "      <td>-</td>\n",
       "      <td>Untested</td>\n",
       "      <td>A</td>\n",
       "    </tr>\n",
       "    <tr>\n",
       "      <th>4069873</th>\n",
       "      <td>chr9</td>\n",
       "      <td>36157171</td>\n",
       "      <td>36165366</td>\n",
       "      <td>4069873</td>\n",
       "      <td>8196</td>\n",
       "      <td>+</td>\n",
       "      <td>Untested</td>\n",
       "      <td>A</td>\n",
       "    </tr>\n",
       "    <tr>\n",
       "      <th>4041384</th>\n",
       "      <td>chr9</td>\n",
       "      <td>19897067</td>\n",
       "      <td>19906574</td>\n",
       "      <td>4041384</td>\n",
       "      <td>9508</td>\n",
       "      <td>+</td>\n",
       "      <td>Untested</td>\n",
       "      <td>A</td>\n",
       "    </tr>\n",
       "    <tr>\n",
       "      <th>4164901</th>\n",
       "      <td>chr9</td>\n",
       "      <td>82767923</td>\n",
       "      <td>82780285</td>\n",
       "      <td>4164901</td>\n",
       "      <td>12363</td>\n",
       "      <td>+</td>\n",
       "      <td>Untested</td>\n",
       "      <td>A</td>\n",
       "    </tr>\n",
       "  </tbody>\n",
       "</table>\n",
       "<p>8059 rows × 8 columns</p>\n",
       "</div>"
      ],
      "text/plain": [
       "        chrom      start        end  element_id  length strand val_result  \\\n",
       "151177   chr1   95057294   95057326      151177      33      -   Untested   \n",
       "25136    chr1   20055335   20055371       25136      37      -   Untested   \n",
       "159399   chr1  100567693  100567739      159399      47      +   Untested   \n",
       "160006   chr1  100931364  100931413      160006      50      +   Untested   \n",
       "91370    chr1   60586644   60586694       91370      51      -   Untested   \n",
       "...       ...        ...        ...         ...     ...    ...        ...   \n",
       "4180871  chr9   92734665   92742098     4180871    7434      -   Untested   \n",
       "4041241  chr9   19763109   19770697     4041241    7589      -   Untested   \n",
       "4069873  chr9   36157171   36165366     4069873    8196      +   Untested   \n",
       "4041384  chr9   19897067   19906574     4041384    9508      +   Untested   \n",
       "4164901  chr9   82767923   82780285     4164901   12363      +   Untested   \n",
       "\n",
       "        cluster_assignments  \n",
       "151177                    B  \n",
       "25136                     B  \n",
       "159399                    A  \n",
       "160006                    A  \n",
       "91370                     B  \n",
       "...                     ...  \n",
       "4180871                   C  \n",
       "4041241                   A  \n",
       "4069873                   A  \n",
       "4041384                   A  \n",
       "4164901                   A  \n",
       "\n",
       "[8059 rows x 8 columns]"
      ]
     },
     "execution_count": 10,
     "metadata": {},
     "output_type": "execute_result"
    }
   ],
   "source": [
    "clustered_df"
   ]
  },
  {
   "cell_type": "code",
   "execution_count": 11,
   "metadata": {},
   "outputs": [],
   "source": [
    "clustered_df[\"mfe\"] = mfe_df[\"mfe\"]"
   ]
  },
  {
   "cell_type": "code",
   "execution_count": 15,
   "metadata": {},
   "outputs": [
    {
     "data": {
      "text/plain": [
       "<matplotlib.axes._subplots.AxesSubplot at 0x12ea105d0>"
      ]
     },
     "execution_count": 15,
     "metadata": {},
     "output_type": "execute_result"
    },
    {
     "data": {
      "image/png": "[encoded data removed]",
      "text/plain": [
       "<Figure size 432x288 with 1 Axes>"
      ]
     },
     "metadata": {
      "needs_background": "light"
     },
     "output_type": "display_data"
    }
   ],
   "source": [
    "label_order = [\"A\", \"B\", \"C\", \"D\", \"E\"]\n",
    "sns.barplot(x=\"cluster_assignments\", y=\"mfe\", order=label_order, data=clustered_df)"
   ]
  },
  {
   "cell_type": "code",
   "execution_count": 18,
   "metadata": {},
   "outputs": [
    {
     "name": "stdout",
     "output_type": "stream",
     "text": [
      "\n",
      "\n"
     ]
    },
    {
     "data": {
      "text/html": [
       "<div>\n",
       "<style scoped>\n",
       "    .dataframe tbody tr th:only-of-type {\n",
       "        vertical-align: middle;\n",
       "    }\n",
       "\n",
       "    .dataframe tbody tr th {\n",
       "        vertical-align: top;\n",
       "    }\n",
       "\n",
       "    .dataframe thead th {\n",
       "        text-align: right;\n",
       "    }\n",
       "</style>\n",
       "<table border=\"1\" class=\"dataframe\">\n",
       "  <thead>\n",
       "    <tr style=\"text-align: right;\">\n",
       "      <th></th>\n",
       "      <th>N</th>\n",
       "      <th>Mean</th>\n",
       "      <th>SD</th>\n",
       "      <th>SE</th>\n",
       "      <th>95% Conf.</th>\n",
       "      <th>Interval</th>\n",
       "    </tr>\n",
       "    <tr>\n",
       "      <th>cluster_assignments</th>\n",
       "      <th></th>\n",
       "      <th></th>\n",
       "      <th></th>\n",
       "      <th></th>\n",
       "      <th></th>\n",
       "      <th></th>\n",
       "    </tr>\n",
       "  </thead>\n",
       "  <tbody>\n",
       "    <tr>\n",
       "      <th>A</th>\n",
       "      <td>4684</td>\n",
       "      <td>-569.694669</td>\n",
       "      <td>73.727955</td>\n",
       "      <td>1.077268</td>\n",
       "      <td>-571.806340</td>\n",
       "      <td>-567.582999</td>\n",
       "    </tr>\n",
       "    <tr>\n",
       "      <th>B</th>\n",
       "      <td>1813</td>\n",
       "      <td>-580.817684</td>\n",
       "      <td>64.848573</td>\n",
       "      <td>1.523006</td>\n",
       "      <td>-583.803599</td>\n",
       "      <td>-577.831769</td>\n",
       "    </tr>\n",
       "    <tr>\n",
       "      <th>C</th>\n",
       "      <td>942</td>\n",
       "      <td>-593.333471</td>\n",
       "      <td>56.587237</td>\n",
       "      <td>1.843712</td>\n",
       "      <td>-596.949066</td>\n",
       "      <td>-589.717876</td>\n",
       "    </tr>\n",
       "    <tr>\n",
       "      <th>D</th>\n",
       "      <td>453</td>\n",
       "      <td>-606.586225</td>\n",
       "      <td>59.199221</td>\n",
       "      <td>2.781422</td>\n",
       "      <td>-612.043839</td>\n",
       "      <td>-601.128610</td>\n",
       "    </tr>\n",
       "    <tr>\n",
       "      <th>E</th>\n",
       "      <td>167</td>\n",
       "      <td>-608.516885</td>\n",
       "      <td>48.531668</td>\n",
       "      <td>3.755493</td>\n",
       "      <td>-615.899790</td>\n",
       "      <td>-601.133981</td>\n",
       "    </tr>\n",
       "  </tbody>\n",
       "</table>\n",
       "</div>"
      ],
      "text/plain": [
       "                        N        Mean         SD        SE   95% Conf.  \\\n",
       "cluster_assignments                                                      \n",
       "A                    4684 -569.694669  73.727955  1.077268 -571.806340   \n",
       "B                    1813 -580.817684  64.848573  1.523006 -583.803599   \n",
       "C                     942 -593.333471  56.587237  1.843712 -596.949066   \n",
       "D                     453 -606.586225  59.199221  2.781422 -612.043839   \n",
       "E                     167 -608.516885  48.531668  3.755493 -615.899790   \n",
       "\n",
       "                       Interval  \n",
       "cluster_assignments              \n",
       "A                   -567.582999  \n",
       "B                   -577.831769  \n",
       "C                   -589.717876  \n",
       "D                   -601.128610  \n",
       "E                   -601.133981  "
      ]
     },
     "execution_count": 18,
     "metadata": {},
     "output_type": "execute_result"
    }
   ],
   "source": [
    "rp.summary_cont(clustered_df['mfe'].groupby(clustered_df['cluster_assignments']))"
   ]
  },
  {
   "cell_type": "code",
   "execution_count": 27,
   "metadata": {},
   "outputs": [
    {
     "data": {
      "text/plain": [
       "cluster_assignments\n",
       "A   -569.694669\n",
       "B   -580.817684\n",
       "C   -593.333471\n",
       "D   -606.586225\n",
       "E   -608.516885\n",
       "Name: mfe, dtype: float64"
      ]
     },
     "execution_count": 27,
     "metadata": {},
     "output_type": "execute_result"
    }
   ],
   "source": [
    "clustered_df['mfe'].groupby(clustered_df['cluster_assignments']).mean()"
   ]
  },
  {
   "cell_type": "code",
   "execution_count": 21,
   "metadata": {},
   "outputs": [
    {
     "data": {
      "text/plain": [
       "F_onewayResult(statistic=57.36518421912151, pvalue=8.340223747789672e-48)"
      ]
     },
     "execution_count": 21,
     "metadata": {},
     "output_type": "execute_result"
    }
   ],
   "source": [
    "stats.f_oneway(clustered_df['mfe'][clustered_df['cluster_assignments'] == 'A'], \n",
    "               clustered_df['mfe'][clustered_df['cluster_assignments'] == 'B'],\n",
    "               clustered_df['mfe'][clustered_df['cluster_assignments'] == 'C'],\n",
    "               clustered_df['mfe'][clustered_df['cluster_assignments'] == 'D'],\n",
    "               clustered_df['mfe'][clustered_df['cluster_assignments'] == 'E'])"
   ]
  },
  {
   "cell_type": "code",
   "execution_count": 22,
   "metadata": {},
   "outputs": [
    {
     "data": {
      "text/plain": [
       "LeveneResult(statistic=20.235334277321716, pvalue=1.333665732813831e-16)"
      ]
     },
     "execution_count": 22,
     "metadata": {},
     "output_type": "execute_result"
    }
   ],
   "source": [
    "stats.levene(clustered_df['mfe'][clustered_df['cluster_assignments'] == 'A'], \n",
    "             clustered_df['mfe'][clustered_df['cluster_assignments'] == 'B'],\n",
    "             clustered_df['mfe'][clustered_df['cluster_assignments'] == 'C'],\n",
    "             clustered_df['mfe'][clustered_df['cluster_assignments'] == 'D'],\n",
    "             clustered_df['mfe'][clustered_df['cluster_assignments'] == 'E'])"
   ]
  },
  {
   "cell_type": "code",
   "execution_count": 23,
   "metadata": {},
   "outputs": [
    {
     "data": {
      "text/plain": [
       "Ttest_indResult(statistic=5.63516533126062, pvalue=1.8222746287599643e-08)"
      ]
     },
     "execution_count": 23,
     "metadata": {},
     "output_type": "execute_result"
    }
   ],
   "source": [
    "stats.ttest_ind(clustered_df['mfe'][clustered_df['cluster_assignments'] == 'A'],\n",
    "                clustered_df['mfe'][clustered_df['cluster_assignments'] == 'B'])"
   ]
  },
  {
   "cell_type": "code",
   "execution_count": 28,
   "metadata": {},
   "outputs": [
    {
     "data": {
      "text/plain": [
       "Ttest_indResult(statistic=9.304548570035902, pvalue=1.8856174693667213e-20)"
      ]
     },
     "execution_count": 28,
     "metadata": {},
     "output_type": "execute_result"
    }
   ],
   "source": [
    "stats.ttest_ind(clustered_df['mfe'][clustered_df['cluster_assignments'] == 'A'],\n",
    "                clustered_df['mfe'][clustered_df['cluster_assignments'] == 'C'])"
   ]
  },
  {
   "cell_type": "code",
   "execution_count": 29,
   "metadata": {},
   "outputs": [
    {
     "data": {
      "text/plain": [
       "Ttest_indResult(statistic=5.014083514181018, pvalue=5.666844457630667e-07)"
      ]
     },
     "execution_count": 29,
     "metadata": {},
     "output_type": "execute_result"
    }
   ],
   "source": [
    "stats.ttest_ind(clustered_df['mfe'][clustered_df['cluster_assignments'] == 'B'],\n",
    "                clustered_df['mfe'][clustered_df['cluster_assignments'] == 'C'])"
   ]
  },
  {
   "cell_type": "code",
   "execution_count": 14,
   "metadata": {},
   "outputs": [
    {
     "data": {
      "text/html": [
       "<div>\n",
       "<style scoped>\n",
       "    .dataframe tbody tr th:only-of-type {\n",
       "        vertical-align: middle;\n",
       "    }\n",
       "\n",
       "    .dataframe tbody tr th {\n",
       "        vertical-align: top;\n",
       "    }\n",
       "\n",
       "    .dataframe thead th {\n",
       "        text-align: right;\n",
       "    }\n",
       "</style>\n",
       "<table border=\"1\" class=\"dataframe\">\n",
       "  <thead>\n",
       "    <tr style=\"text-align: right;\">\n",
       "      <th></th>\n",
       "      <th>chrom</th>\n",
       "      <th>start</th>\n",
       "      <th>end</th>\n",
       "      <th>element_id</th>\n",
       "      <th>length</th>\n",
       "      <th>strand</th>\n",
       "      <th>val_result</th>\n",
       "      <th>cluster_assignments</th>\n",
       "      <th>mfe</th>\n",
       "    </tr>\n",
       "  </thead>\n",
       "  <tbody>\n",
       "    <tr>\n",
       "      <th>151177</th>\n",
       "      <td>chr1</td>\n",
       "      <td>95057294</td>\n",
       "      <td>95057326</td>\n",
       "      <td>151177</td>\n",
       "      <td>33</td>\n",
       "      <td>-</td>\n",
       "      <td>Untested</td>\n",
       "      <td>B</td>\n",
       "      <td>-439.600006</td>\n",
       "    </tr>\n",
       "    <tr>\n",
       "      <th>25136</th>\n",
       "      <td>chr1</td>\n",
       "      <td>20055335</td>\n",
       "      <td>20055371</td>\n",
       "      <td>25136</td>\n",
       "      <td>37</td>\n",
       "      <td>-</td>\n",
       "      <td>Untested</td>\n",
       "      <td>B</td>\n",
       "      <td>-471.799988</td>\n",
       "    </tr>\n",
       "    <tr>\n",
       "      <th>159399</th>\n",
       "      <td>chr1</td>\n",
       "      <td>100567693</td>\n",
       "      <td>100567739</td>\n",
       "      <td>159399</td>\n",
       "      <td>47</td>\n",
       "      <td>+</td>\n",
       "      <td>Untested</td>\n",
       "      <td>A</td>\n",
       "      <td>-425.100006</td>\n",
       "    </tr>\n",
       "    <tr>\n",
       "      <th>160006</th>\n",
       "      <td>chr1</td>\n",
       "      <td>100931364</td>\n",
       "      <td>100931413</td>\n",
       "      <td>160006</td>\n",
       "      <td>50</td>\n",
       "      <td>+</td>\n",
       "      <td>Untested</td>\n",
       "      <td>A</td>\n",
       "      <td>-467.700012</td>\n",
       "    </tr>\n",
       "    <tr>\n",
       "      <th>91370</th>\n",
       "      <td>chr1</td>\n",
       "      <td>60586644</td>\n",
       "      <td>60586694</td>\n",
       "      <td>91370</td>\n",
       "      <td>51</td>\n",
       "      <td>-</td>\n",
       "      <td>Untested</td>\n",
       "      <td>B</td>\n",
       "      <td>-517.200012</td>\n",
       "    </tr>\n",
       "    <tr>\n",
       "      <th>...</th>\n",
       "      <td>...</td>\n",
       "      <td>...</td>\n",
       "      <td>...</td>\n",
       "      <td>...</td>\n",
       "      <td>...</td>\n",
       "      <td>...</td>\n",
       "      <td>...</td>\n",
       "      <td>...</td>\n",
       "      <td>...</td>\n",
       "    </tr>\n",
       "    <tr>\n",
       "      <th>4180871</th>\n",
       "      <td>chr9</td>\n",
       "      <td>92734665</td>\n",
       "      <td>92742098</td>\n",
       "      <td>4180871</td>\n",
       "      <td>7434</td>\n",
       "      <td>-</td>\n",
       "      <td>Untested</td>\n",
       "      <td>C</td>\n",
       "      <td>-609.799988</td>\n",
       "    </tr>\n",
       "    <tr>\n",
       "      <th>4041241</th>\n",
       "      <td>chr9</td>\n",
       "      <td>19763109</td>\n",
       "      <td>19770697</td>\n",
       "      <td>4041241</td>\n",
       "      <td>7589</td>\n",
       "      <td>-</td>\n",
       "      <td>Untested</td>\n",
       "      <td>A</td>\n",
       "      <td>-586.099976</td>\n",
       "    </tr>\n",
       "    <tr>\n",
       "      <th>4069873</th>\n",
       "      <td>chr9</td>\n",
       "      <td>36157171</td>\n",
       "      <td>36165366</td>\n",
       "      <td>4069873</td>\n",
       "      <td>8196</td>\n",
       "      <td>+</td>\n",
       "      <td>Untested</td>\n",
       "      <td>A</td>\n",
       "      <td>-534.599976</td>\n",
       "    </tr>\n",
       "    <tr>\n",
       "      <th>4041384</th>\n",
       "      <td>chr9</td>\n",
       "      <td>19897067</td>\n",
       "      <td>19906574</td>\n",
       "      <td>4041384</td>\n",
       "      <td>9508</td>\n",
       "      <td>+</td>\n",
       "      <td>Untested</td>\n",
       "      <td>A</td>\n",
       "      <td>-640.599976</td>\n",
       "    </tr>\n",
       "    <tr>\n",
       "      <th>4164901</th>\n",
       "      <td>chr9</td>\n",
       "      <td>82767923</td>\n",
       "      <td>82780285</td>\n",
       "      <td>4164901</td>\n",
       "      <td>12363</td>\n",
       "      <td>+</td>\n",
       "      <td>Untested</td>\n",
       "      <td>A</td>\n",
       "      <td>-420.470001</td>\n",
       "    </tr>\n",
       "  </tbody>\n",
       "</table>\n",
       "<p>8059 rows × 9 columns</p>\n",
       "</div>"
      ],
      "text/plain": [
       "        chrom      start        end  element_id  length strand val_result  \\\n",
       "151177   chr1   95057294   95057326      151177      33      -   Untested   \n",
       "25136    chr1   20055335   20055371       25136      37      -   Untested   \n",
       "159399   chr1  100567693  100567739      159399      47      +   Untested   \n",
       "160006   chr1  100931364  100931413      160006      50      +   Untested   \n",
       "91370    chr1   60586644   60586694       91370      51      -   Untested   \n",
       "...       ...        ...        ...         ...     ...    ...        ...   \n",
       "4180871  chr9   92734665   92742098     4180871    7434      -   Untested   \n",
       "4041241  chr9   19763109   19770697     4041241    7589      -   Untested   \n",
       "4069873  chr9   36157171   36165366     4069873    8196      +   Untested   \n",
       "4041384  chr9   19897067   19906574     4041384    9508      +   Untested   \n",
       "4164901  chr9   82767923   82780285     4164901   12363      +   Untested   \n",
       "\n",
       "        cluster_assignments         mfe  \n",
       "151177                    B -439.600006  \n",
       "25136                     B -471.799988  \n",
       "159399                    A -425.100006  \n",
       "160006                    A -467.700012  \n",
       "91370                     B -517.200012  \n",
       "...                     ...         ...  \n",
       "4180871                   C -609.799988  \n",
       "4041241                   A -586.099976  \n",
       "4069873                   A -534.599976  \n",
       "4041384                   A -640.599976  \n",
       "4164901                   A -420.470001  \n",
       "\n",
       "[8059 rows x 9 columns]"
      ]
     },
     "execution_count": 14,
     "metadata": {},
     "output_type": "execute_result"
    }
   ],
   "source": [
    "clustered_df"
   ]
  },
  {
   "cell_type": "code",
   "execution_count": null,
   "metadata": {},
   "outputs": [],
   "source": []
  }
 ],
 "metadata": {
  "kernelspec": {
   "display_name": "Python 3",
   "language": "python",
   "name": "python3"
  },
  "language_info": {
   "codemirror_mode": {
    "name": "ipython",
    "version": 3
   },
   "file_extension": ".py",
   "mimetype": "text/x-python",
   "name": "python",
   "nbconvert_exporter": "python",
   "pygments_lexer": "ipython3",
   "version": "3.7.5"
  }
 },
 "nbformat": 4,
 "nbformat_minor": 4
}
